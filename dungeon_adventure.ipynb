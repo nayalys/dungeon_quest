{
 "cells": [
  {
   "cell_type": "markdown",
   "id": "54471718",
   "metadata": {},
   "source": [
    "# Dungeon Adventure Game - Instructions\n",
    "\n",
    "In this exercise, you will build a text-based dungeon adventure game in Python.\n",
    "\n",
    "You will apply everything you've learned so far, including:\n",
    "- Variables\n",
    "- Operators\n",
    "- Lists\n",
    "- Dictionaries\n",
    "- Loops\n",
    "- Conditionals\n",
    "- The `random` module\n",
    "\n",
    "Follow the prompts in each section to build your game step by step. By the end, you will have a fully functioning game where the player can explore rooms, search for treasure, avoid traps, and see their final score based on the treasures collected.\n",
    "\n",
    "Complete each section before moving on to the next.\n"
   ]
  },
  {
   "cell_type": "code",
   "execution_count": 5,
   "id": "9c6c8f0c",
   "metadata": {},
   "outputs": [
    {
     "name": "stdout",
     "output_type": "stream",
     "text": [
      "Welcome to the Dungeon Adventure Game, nana!\n"
     ]
    }
   ],
   "source": [
    "# Step 1: Player Setup\n",
    "# Prompt the player for their name.\n",
    "# Set health to 10.\n",
    "# Create a\n",
    "import random\n",
    "player_name = input(\"Enter your name: \")\n",
    "print(f\"Welcome to the Dungeon Adventure Game, {player_name}!\")\n",
    "player_health = 10\n",
    "player_inventory = []\n"
   ]
  },
  {
   "cell_type": "code",
   "execution_count": 6,
   "id": "3a0aecec",
   "metadata": {},
   "outputs": [],
   "source": [
    "# Step 2: Treasure Dictionary\n",
    "# Create a dictionary of treasures where the keys are treasure names\n",
    "# and the values are the gold value of each treasure.\n",
    "Treasure_Dictionary = {\"Gold Coin\":10 , \"Silver Coin\": 5,\"Bronze Coin\": 1}"
   ]
  },
  {
   "cell_type": "code",
   "execution_count": 7,
   "id": "1a24ddaf",
   "metadata": {},
   "outputs": [
    {
     "name": "stdout",
     "output_type": "stream",
     "text": [
      "\n",
      "You are in room 1.\n",
      "Options:\n",
      "1. Search for treasure\n",
      "2. Move to next room\n",
      "3. Check health and inventory\n",
      "4. Quit the game\n",
      "You fell into a trap! You lost 2 health points.\n",
      "Your current health: 8\n",
      "\n",
      "You are in room 2.\n",
      "Options:\n",
      "1. Search for treasure\n",
      "2. Move to next room\n",
      "3. Check health and inventory\n",
      "4. Quit the game\n",
      "You need to move to the next room.\n",
      "\n",
      "You are in room 3.\n",
      "Options:\n",
      "1. Search for treasure\n",
      "2. Move to next room\n",
      "3. Check health and inventory\n",
      "4. Quit the game\n",
      "You found a Silver Coin!\n",
      "Your current health: 8\n",
      "\n",
      "You are in room 4.\n",
      "Options:\n",
      "1. Search for treasure\n",
      "2. Move to next room\n",
      "3. Check health and inventory\n",
      "4. Quit the game\n",
      "You found a treasure:  Gold Coin!\n",
      "Your current health: 8\n",
      "\n",
      "You are in room 5.\n",
      "Options:\n",
      "1. Search for treasure\n",
      "2. Move to next room\n",
      "3. Check health and inventory\n",
      "4. Quit the game\n",
      "You have reached the final room. You can now exit the dungeon.\n",
      "Your current health: 8\n",
      "Your inventory: ['Silver Coin', 'Gold Coin']\n"
     ]
    }
   ],
   "source": [
    "# Step 3: Game Loop - Moving through 5 rooms\n",
    "# Use a for loop to represent rooms 1 to 5.\n",
    "# In each room, display the current room number and the options:\n",
    "# 1. Search for treasure\n",
    "# 2. Move to next room\n",
    "# 3. Check health and inventory\n",
    "# 4. Quit the game\n",
    "# Make sure to handle each option appropriately.\n",
    "for room in range(1, 6):\n",
    "    while True:\n",
    "        print(f\"\\nYou are in room {room}.\")\n",
    "        print(\"Options:\")\n",
    "        print(\"1. Search for treasure\")\n",
    "        print(\"2. Move to next room\")\n",
    "        print(\"3. Check health and inventory\")\n",
    "        print(\"4. Quit the game\")\n",
    "        choice = input(\"Enter your choice (1-4): \")\n",
    "\n",
    "# Step 4: Implement treasure search\n",
    "# If the player chooses to search, randomly decide if they find treasure or a trap.\n",
    "# If treasure, randomly pick from the treasure dictionary and add to inventory.\n",
    "# If trap, deduct 2 health points and print a message.\n",
    "    \n",
    "        if choice == '1':\n",
    "            if random.choice(list(Treasure_Dictionary.keys())) == \"Gold Coin\":              \n",
    "                player_inventory.append(\"Gold Coin\")\n",
    "                print(\"You found a treasure:  Gold Coin!\")\n",
    "                print(f\"Your current health: {player_health}\")\n",
    "                break\n",
    "            elif random.choice(list(Treasure_Dictionary.keys())) == \"Silver Coin\":\n",
    "                player_inventory.append(\"Silver Coin\")\n",
    "                print(\"You found a Silver Coin!\")\n",
    "                print(f\"Your current health: {player_health}\")\n",
    "                break   \n",
    "            elif random.choice(list(Treasure_Dictionary.keys())) == \"Bronze Coin\":\n",
    "                player_inventory.append(\"Bronze Coin\")\n",
    "                print(\"You found a Bronze Coin!\")\n",
    "                print(f\"Your current health: {player_health}\")\n",
    "            else: # If a trap is found, deduct health\n",
    "                player_health -= 2\n",
    "                print(\"You fell into a trap! You lost 2 health points.\")\n",
    "                print(f\"Your current health: {player_health}\")\n",
    "                break\n",
    "        elif choice == '2': \n",
    "            if room<5:\n",
    "                print(\"You need to move to the next room.\")\n",
    "                break\n",
    "            if room == 5:\n",
    "                print(\"You have reached the final room. You can now exit the dungeon.\")\n",
    "                print(f\"Your current health: {player_health}\")\n",
    "                print(f\"Your inventory: {player_inventory}\")\n",
    "                break\n",
    "            else:\n",
    "                print(\"You have reached the end of the dungeon. Congratulations!\")\n",
    "            \n",
    "                break\n",
    "        \n",
    "            \n",
    "        if choice == '3':   \n",
    "            print(f\"Your current health: {player_health}\")\n",
    "            print(f\"Your inventory:{player_inventory}\")\n",
    "        if choice == '4':\n",
    "            print(\"You chose to quit the game.Goodbye!\")\n",
    "            break\n",
    "    else:\n",
    "        print(\"Invalid choice. Enter a number  from 1 to 4.\")\n",
    "        break \n",
    "    # Step 5: Check health\n",
    "    # If health drops to 0 or below, print a Game Over message and break the loop.\n",
    "\n",
    "        if player_health <= 0:\n",
    "            print(\"Game Over! You dont have health left.\")\n",
    "        break\n",
    "            \n",
    "\n",
    "# Step 6: End of Game\n"
   ]
  },
  {
   "cell_type": "code",
   "execution_count": 8,
   "id": "39cc69d2",
   "metadata": {},
   "outputs": [
    {
     "name": "stdout",
     "output_type": "stream",
     "text": [
      "\n",
      "nana's Inventory: ['Gold Coin', 'Silver Coin']\n",
      "Total Treasure Value: 15\n",
      "\n",
      "Game Over! nana's final health: 8\n"
     ]
    }
   ],
   "source": [
    "# Step 6: End of Game Summary\n",
    "# If the player quits or finishes all rooms, calculate the total value of the collected treasures.\n",
    "# Loop through the inventory and sum the gold value using the treasure dictionary.\n",
    "# Print the final health, inventory, and total treasure value.\n",
    "inventory_value = 0\n",
    "for item in player_inventory:  \n",
    "    inventory_value += Treasure_Dictionary[item]\n",
    "inventory_set = set(player_inventory)  # To avoid duplicates in inventory\n",
    "player_inventory = list(inventory_set)  # Convert back to list for display  \n",
    "overall_inventory = ', '.join(player_inventory)  # Join items for display\n",
    "print(f\"\\n{player_name}'s Inventory: {player_inventory}\")\n",
    "print(f\"Total Treasure Value: {inventory_value}\")                           \n",
    "print(f\"\\nGame Over! {player_name}'s final health: {player_health}\")"
   ]
  }
 ],
 "metadata": {
  "kernelspec": {
   "display_name": "Python 3",
   "language": "python",
   "name": "python3"
  },
  "language_info": {
   "codemirror_mode": {
    "name": "ipython",
    "version": 3
   },
   "file_extension": ".py",
   "mimetype": "text/x-python",
   "name": "python",
   "nbconvert_exporter": "python",
   "pygments_lexer": "ipython3",
   "version": "3.13.5"
  }
 },
 "nbformat": 4,
 "nbformat_minor": 5
}
